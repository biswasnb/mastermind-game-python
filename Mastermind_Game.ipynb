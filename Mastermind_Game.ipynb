{
 "cells": [
  {
   "cell_type": "markdown",
   "id": "2ca5cc03",
   "metadata": {},
   "source": [
    "## Mastermind Game"
   ]
  },
  {
   "cell_type": "code",
   "execution_count": 1,
   "id": "860737f4",
   "metadata": {},
   "outputs": [
    {
     "name": "stdout",
     "output_type": "stream",
     "text": [
      "Guess the 4 digit number:9764\n",
      "Not quite the number. But you did get 1 digit(s) correct!\n",
      "Also these numbers in your input were correct: X X 6 X\n",
      "\n",
      "\n",
      "Enter your next choice of numbers: 8964\n",
      "Not quite the number. But you did get 2 digit(s) correct!\n",
      "Also these numbers in your input were correct: X 9 6 X\n",
      "\n",
      "\n",
      "Enter your next choice of numbers: 3964\n",
      "Not quite the number. But you did get 3 digit(s) correct!\n",
      "Also these numbers in your input were correct: 3 9 6 X\n",
      "\n",
      "\n",
      "Enter your next choice of numbers: 3965\n",
      "Not quite the number. But you did get 3 digit(s) correct!\n",
      "Also these numbers in your input were correct: 3 9 6 X\n",
      "\n",
      "\n",
      "Enter your next choice of numbers: 3967\n",
      "You've become a Mastermind!\n",
      "It took you only 5 tries.\n"
     ]
    }
   ],
   "source": [
    "import random\n",
    "\n",
    "# Generate a random 4-digit number\n",
    "num = random.randrange(1000, 10000)\n",
    "\n",
    "# Prompt the user to guess the number\n",
    "n = int(input(\"Guess the 4 digit number:\"))\n",
    "\n",
    "# Check if the guess is correct on the first try\n",
    "if n == num:\n",
    "    print(\"Great! You guessed the number in just 1 try! You're a Mastermind!\")\n",
    "else:\n",
    "    ctr = 1  # Initialize the counter for number of tries\n",
    "\n",
    "    # Continue looping until the guess is correct\n",
    "    while n != num:\n",
    "        # Ensure the input is a 4-digit number\n",
    "        while len(str(n)) != 4:\n",
    "            print(\"Please enter a 4-digit number.\")\n",
    "            n = int(input(\"Guess the 4 digit number:\"))\n",
    "        \n",
    "        count = 0  # Count how many digits are guessed correctly\n",
    "        n_str = str(n)  # Convert the guess to a string for easier comparison\n",
    "        num_str = str(num)  # Convert the random number to a string\n",
    "        correct = ['X'] * 4  # List to store the correct digits at their positions\n",
    "\n",
    "        # Check each digit in the guess and compare it with the random number\n",
    "        for i in range(4):\n",
    "            if n_str[i] == num_str[i]:\n",
    "                count += 1  # Increment the count for correct digits\n",
    "                correct[i] = n_str[i]  # Store the correct digits in their positions\n",
    "\n",
    "        # Provide feedback to the player\n",
    "        if count < 4:\n",
    "            print(f\"Not quite the number. But you did get {count} digit(s) correct!\")\n",
    "            print(\"Also these numbers in your input were correct:\", \" \".join(correct))\n",
    "            print(\"\\n\")\n",
    "            n = int(input(\"Enter your next choice of numbers: \"))  # Get the next guess\n",
    "            ctr += 1  # Increment the try count\n",
    "        else:\n",
    "            break  # Exit the loop once the number is guessed correctly\n",
    "\n",
    "    # Once the number is guessed correctly, print the result\n",
    "    if n == num:\n",
    "        print(\"You've become a Mastermind!\")\n",
    "        print(f\"It took you only {ctr} tries.\")\n"
   ]
  },
  {
   "cell_type": "code",
   "execution_count": null,
   "id": "91d5155c",
   "metadata": {},
   "outputs": [],
   "source": []
  }
 ],
 "metadata": {
  "kernelspec": {
   "display_name": "Python 3 (ipykernel)",
   "language": "python",
   "name": "python3"
  },
  "language_info": {
   "codemirror_mode": {
    "name": "ipython",
    "version": 3
   },
   "file_extension": ".py",
   "mimetype": "text/x-python",
   "name": "python",
   "nbconvert_exporter": "python",
   "pygments_lexer": "ipython3",
   "version": "3.9.7"
  }
 },
 "nbformat": 4,
 "nbformat_minor": 5
}
